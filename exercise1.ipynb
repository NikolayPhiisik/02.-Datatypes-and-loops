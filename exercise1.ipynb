{
 "cells": [
  {
   "cell_type": "code",
   "execution_count": null,
   "metadata": {},
   "outputs": [],
   "source": [
    "word = input(\"Введите слово\")\n",
    "if len(word) % 2 == 0:\n",
    "    print(word[int(len(word) / 2) - 1:int(len(word) / 2) + 1])\n",
    "elif len(word) % 2 !=0:\n",
    "    print(word[int(len(word) / 2)])"
   ]
  }
 ],
 "metadata": {},
 "nbformat": 4,
 "nbformat_minor": 4
}
