{
 "cells": [
  {
   "cell_type": "code",
   "execution_count": null,
   "metadata": {},
   "outputs": [
    {
     "name": "stdout",
     "output_type": "stream",
     "text": [
      "vvedite chislo 5\n",
      "vvedite chislo 8\n",
      "vvedite chislo 0\n",
      "13\n"
     ]
    }
   ],
   "source": [
    "user_input_sum = 0\n",
    "while True:\n",
    "\n",
    "    user_input = int(input('vvedite chislo '))\n",
    "    \n",
    "    if user_input != 0:\n",
    "       user_input_sum = user_input + user_input_sum\n",
    "       pass\n",
    "    else:\n",
    "        print (f'{user_input_sum}')"
   ]
  }
 ],
 "metadata": {
  "kernelspec": {
   "display_name": "Python 3",
   "language": "python",
   "name": "python3"
  },
  "language_info": {
   "codemirror_mode": {
    "name": "ipython",
    "version": 3
   },
   "file_extension": ".py",
   "mimetype": "text/x-python",
   "name": "python",
   "nbconvert_exporter": "python",
   "pygments_lexer": "ipython3",
   "version": "3.8.3"
  }
 },
 "nbformat": 4,
 "nbformat_minor": 4
}
